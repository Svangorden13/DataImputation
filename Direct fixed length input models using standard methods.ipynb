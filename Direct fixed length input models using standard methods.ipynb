{
 "cells": [
  {
   "cell_type": "markdown",
   "metadata": {},
   "source": [
    "# Next or Previous values"
   ]
  },
  {
   "cell_type": "code",
   "execution_count": 30,
   "metadata": {},
   "outputs": [],
   "source": [
    "#Import Libraries\n",
    "import pandas as pd\n",
    "import numpy as np\n",
    "from sklearn.impute import KNNImputer\n",
    "from sklearn.experimental import enable_iterative_imputer\n",
    "from sklearn.impute import IterativeImputer\n",
    "from sklearn.linear_model import LinearRegression\n",
    "from sklearn.preprocessing import PolynomialFeatures\n",
    "from sklearn.pipeline import make_pipeline"
   ]
  },
  {
   "cell_type": "code",
   "execution_count": 43,
   "metadata": {},
   "outputs": [],
   "source": [
    "#Import Data\n",
    "data = pd.read_csv(\"data.csv\")\n",
    "samp_sol = pd.read_csv(\"sample_submission.csv\")\n",
    "#print(data)"
   ]
  },
  {
   "cell_type": "code",
   "execution_count": 42,
   "metadata": {},
   "outputs": [
    {
     "name": "stdout",
     "output_type": "stream",
     "text": [
      "          id  x_e_out [-]\n",
      "0          4      -0.0279\n",
      "1          7       0.1203\n",
      "2         10       0.1228\n",
      "3         12       0.0515\n",
      "4         23      -0.0124\n",
      "...      ...          ...\n",
      "10410  31633          NaN\n",
      "10411  31634          NaN\n",
      "10412  31637      -0.0195\n",
      "10413  31640       0.0886\n",
      "10414  31642      -0.1224\n",
      "\n",
      "[10415 rows x 2 columns]\n"
     ]
    }
   ],
   "source": [
    "#Next method\n",
    "data_next = data.copy()\n",
    "data_next[\"x_e_out [-]\"] = data_next[\"x_e_out [-]\"].fillna(data_next[\"x_e_out [-]\"].shift(-1))\n",
    "next_sol = samp_sol.copy()\n",
    "filtered_data_next = pd.merge(next_sol['id'], data_next, on='id', how='left')\n",
    "filtered_data_next = filtered_data_next.dropna(subset=['x_e_out [-]'])\n",
    "#print(filtered_data_next)\n",
    "next_sol['x_e_out [-]'] = filtered_data_next['x_e_out [-]']\n",
    "#print(next_sol)\n",
    "\n",
    "\n",
    "\n",
    "#Previous method\n",
    "data_previous = data.copy()\n",
    "data_previous[\"x_e_out [-]\"] = data_previous[\"x_e_out [-]\"].fillna(data_previous[\"x_e_out [-]\"].shift(1))\n",
    "previous_sol = samp_sol.copy()\n",
    "filtered_data_previous = pd.merge(previous_sol['id'], data_previous, on='id', how='left')\n",
    "filtered_data_previous = filtered_data_previous.dropna(subset=['x_e_out [-]'])\n",
    "#print(filtered_data_previous)\n",
    "previous_sol['x_e_out [-]'] = filtered_data_previous['x_e_out [-]']\n",
    "print(previous_sol)\n",
    "#print(data_previous)"
   ]
  },
  {
   "cell_type": "markdown",
   "metadata": {},
   "source": [
    "# K nearest Neighbors"
   ]
  },
  {
   "cell_type": "code",
   "execution_count": 41,
   "metadata": {},
   "outputs": [],
   "source": [
    "# Create a copy of the original data dataframe\n",
    "data_knn = data.copy()\n",
    "# Specify the column containing the missing values\n",
    "column_name = 'x_e_out [-]'\n",
    "# Create an instance of the KNNImputer class\n",
    "imputer = KNNImputer(n_neighbors=1)\n",
    "# Perform KNN imputation on the specified column\n",
    "data_knn[column_name] = imputer.fit_transform(data_knn[[column_name]])\n",
    "# Print the data_knn dataframe\n",
    "#print(data_knn)\n",
    "knn_sol = samp_sol.copy()\n",
    "filtered_data_knn = pd.merge(knn_sol['id'], data_knn, on='id', how='left')\n",
    "filtered_data_knn = filtered_data_knn.dropna(subset=['x_e_out [-]'])\n",
    "#print(filtered_data_knn)\n",
    "knn_sol['x_e_out [-]'] = filtered_data_knn['x_e_out [-]']\n",
    "#print(knn_sol)\n"
   ]
  },
  {
   "cell_type": "markdown",
   "metadata": {},
   "source": [
    "# Maximum and Minimum Values"
   ]
  },
  {
   "cell_type": "code",
   "execution_count": 40,
   "metadata": {},
   "outputs": [],
   "source": [
    "#Max Values\n",
    "data_max = data.copy()\n",
    "data_max['x_e_out [-]'] = data_max['x_e_out [-]'].fillna(data_max['x_e_out [-]'].max())\n",
    "#print(data_max)\n",
    "max_sol = samp_sol.copy()\n",
    "filtered_data_max = pd.merge(max_sol['id'], data_max, on='id', how='left')\n",
    "filtered_data_max = filtered_data_max.dropna(subset=['x_e_out [-]'])\n",
    "#print(filtered_data_max)\n",
    "max_sol['x_e_out [-]'] = filtered_data_max['x_e_out [-]']\n",
    "#print(max_sol)\n",
    "\n",
    "#Min Values\n",
    "data_min = data.copy()\n",
    "data_min['x_e_out [-]'] = data_min['x_e_out [-]'].fillna(data_min['x_e_out [-]'].min())\n",
    "min_sol = samp_sol.copy()\n",
    "filtered_data_min = pd.merge(min_sol['id'], data_min, on='id', how='left')\n",
    "filtered_data_min = filtered_data_min.dropna(subset=['x_e_out [-]'])\n",
    "#print(filtered_data_min)\n",
    "min_sol['x_e_out [-]'] = filtered_data_min['x_e_out [-]']\n",
    "#print(min_sol)\n",
    "\n",
    "\n"
   ]
  },
  {
   "cell_type": "markdown",
   "metadata": {},
   "source": [
    "# Missing Value Prediction (Multivariable linear Regression)"
   ]
  },
  {
   "cell_type": "code",
   "execution_count": 39,
   "metadata": {},
   "outputs": [],
   "source": [
    "data_reg = data.copy()\n",
    "# Create the imputer model\n",
    "imputer = IterativeImputer(estimator=LinearRegression())\n",
    "\n",
    "# Perform imputation on the entire dataset\n",
    "imputed_data = imputer.fit_transform(data_reg[['pressure [MPa]', 'mass_flux [kg/m2-s]', 'D_e [mm]', 'D_h [mm]', 'length [mm]', 'chf_exp [MW/m2]', 'x_e_out [-]']])\n",
    "\n",
    "# Update the 'x_e_out [-]' column with imputed values\n",
    "data_reg['x_e_out [-]'] = imputed_data[:, -1]\n",
    "#print(data_reg)\n",
    "reg_sol = samp_sol.copy()\n",
    "filtered_data_reg = pd.merge(reg_sol['id'], data_reg, on='id', how='left')\n",
    "filtered_data_reg = filtered_data_reg.dropna(subset=['x_e_out [-]'])\n",
    "#print(filtered_data_reg)\n",
    "reg_sol['x_e_out [-]'] = filtered_data_reg['x_e_out [-]']\n",
    "#print(reg_sol)"
   ]
  },
  {
   "cell_type": "markdown",
   "metadata": {},
   "source": [
    "# Missing Value Prediction (Linear Regression)"
   ]
  },
  {
   "cell_type": "code",
   "execution_count": 37,
   "metadata": {},
   "outputs": [],
   "source": [
    "#This doesnt work yet\n",
    "#data_linear = data.copy()\n",
    "# Remove rows with missing values in any column\n",
    "#data_clean = data_linear.dropna()\n",
    "# Split the data into complete and missing subsets\n",
    "#complete_data = data_clean.dropna(subset=['x_e_out [-]'])\n",
    "#missing_data = data_clean[data_clean['x_e_out [-]'].isnull()]\n",
    "# Create the regression model\n",
    "#reg_model = LinearRegression()\n",
    "# Fit the regression model\n",
    "#reg_model.fit(complete_data[['pressure [MPa]', 'mass_flux [kg/m2-s]', 'D_e [mm]', 'D_h [mm]', 'length [mm]', 'chf_exp [MW/m2]']], complete_data['x_e_out [-]'])\n",
    "# Predict the missing values\n",
    "#predicted_values = reg_model.predict(missing_data[['pressure [MPa]', 'mass_flux [kg/m2-s]', 'D_e [mm]', 'D_h [mm]', 'length [mm]', 'chf_exp [MW/m2]']])\n",
    "# Replace missing values with predicted values\n",
    "#data_linear.loc[data['x_e_out [-]'].isnull(), 'x_e_out [-]'] = predicted_values"
   ]
  },
  {
   "cell_type": "markdown",
   "metadata": {},
   "source": [
    "# Mean, Median, and Mode"
   ]
  },
  {
   "cell_type": "code",
   "execution_count": 38,
   "metadata": {},
   "outputs": [],
   "source": [
    "#Mean Values\n",
    "data_mean = data.copy()\n",
    "data_mean['x_e_out [-]'] = data_mean['x_e_out [-]'].fillna(data_mean['x_e_out [-]'].mean())\n",
    "mean_sol = samp_sol.copy()\n",
    "filtered_data_mean = pd.merge(mean_sol['id'], data_mean, on='id', how='left')\n",
    "filtered_data_mean = filtered_data_mean.dropna(subset=['x_e_out [-]'])\n",
    "#print(filtered_data_mean)\n",
    "mean_sol['x_e_out [-]'] = filtered_data_mean['x_e_out [-]']\n",
    "#print(mean_sol)\n",
    "\n",
    "#Mode Values\n",
    "data_mode = data.copy()\n",
    "mode_value = data_mode['x_e_out [-]'].mode()[0]\n",
    "data_mode['x_e_out [-]'] = data_mode['x_e_out [-]'].fillna(mode_value)\n",
    "mode_sol = samp_sol.copy()\n",
    "filtered_data_mode = pd.merge(mode_sol['id'], data_mode, on='id', how='left')\n",
    "filtered_data_mode = filtered_data_mode.dropna(subset=['x_e_out [-]'])\n",
    "#print(filtered_data_mode)\n",
    "mode_sol['x_e_out [-]'] = filtered_data_mode['x_e_out [-]']\n",
    "#print(mode_sol)\n",
    "\n",
    "#Median Values\n",
    "data_median = data.copy()\n",
    "median_value = data_median['x_e_out [-]'].median()\n",
    "data_median['x_e_out [-]'] = data_median['x_e_out [-]'].fillna(median_value)\n",
    "#print(data_median)\n",
    "median_sol = samp_sol.copy()\n",
    "filtered_data_median = pd.merge(median_sol['id'], data_median, on='id', how='left')\n",
    "filtered_data_median = filtered_data_median.dropna(subset=['x_e_out [-]'])\n",
    "#print(filtered_data_median)\n",
    "median_sol['x_e_out [-]'] = filtered_data_median['x_e_out [-]']\n",
    "#print(median_sol)\n"
   ]
  },
  {
   "cell_type": "markdown",
   "metadata": {},
   "source": [
    "# Linear Interpolation"
   ]
  },
  {
   "cell_type": "code",
   "execution_count": 45,
   "metadata": {},
   "outputs": [],
   "source": [
    "data_interpolate = data.copy()\n",
    "data_interpolate['x_e_out [-]'] = data['x_e_out [-]'].interpolate()\n",
    "#print(data_interpolate)\n",
    "interpolate_sol = samp_sol.copy()\n",
    "filtered_data_interpolate = pd.merge(interpolate_sol['id'], data_interpolate, on='id', how='left')\n",
    "filtered_data_interpolate = filtered_data_interpolate.dropna(subset=['x_e_out [-]'])\n",
    "#print(filtered_data_interpolate)\n",
    "interpolate_sol['x_e_out [-]'] = filtered_data_interpolate['x_e_out [-]']\n",
    "#print(interpolate_sol)"
   ]
  },
  {
   "cell_type": "code",
   "execution_count": null,
   "metadata": {},
   "outputs": [],
   "source": []
  }
 ],
 "metadata": {
  "kernelspec": {
   "display_name": "Python 3",
   "language": "python",
   "name": "python3"
  },
  "language_info": {
   "codemirror_mode": {
    "name": "ipython",
    "version": 3
   },
   "file_extension": ".py",
   "mimetype": "text/x-python",
   "name": "python",
   "nbconvert_exporter": "python",
   "pygments_lexer": "ipython3",
   "version": "3.8.3"
  }
 },
 "nbformat": 4,
 "nbformat_minor": 4
}
